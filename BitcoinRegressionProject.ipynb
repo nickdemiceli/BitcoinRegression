{
 "cells": [
  {
   "cell_type": "code",
   "execution_count": 32,
   "metadata": {
    "scrolled": false
   },
   "outputs": [
    {
     "data": {
      "text/plain": [
       "(            Symbol     Open     High      Low    Close  Volume BTC  \\\n",
       " Date                                                                 \n",
       " 2020-04-10  BTCUSD  7315.25  7315.25  7315.25  7315.25        0.00   \n",
       " 2020-04-09  BTCUSD  7369.60  7378.85  7115.04  7315.25     2237.13   \n",
       " 2020-04-08  BTCUSD  7201.81  7432.23  7152.80  7369.60     2483.60   \n",
       " 2020-04-07  BTCUSD  7336.96  7468.42  7078.00  7201.81     2333.34   \n",
       " 2020-04-06  BTCUSD  6775.21  7369.76  6771.01  7336.96     3727.47   \n",
       " \n",
       "              Volume USD  \n",
       " Date                     \n",
       " 2020-04-10         0.00  \n",
       " 2020-04-09  16310014.53  \n",
       " 2020-04-08  18138080.27  \n",
       " 2020-04-07  17047120.32  \n",
       " 2020-04-06  26533750.17  ,\n",
       "   Year-Month Debit Balances in Customers' Securities Margin Accounts  \\\n",
       " 0    2021-11                                            918,598        \n",
       " 1    2021-10                                            935,862        \n",
       " 2    2021-09                                            903,117        \n",
       " 3    2021-08                                            911,545        \n",
       " 4    2021-07                                            844,324        \n",
       " \n",
       "   Free Credit Balances in Customers' Cash Accounts  \\\n",
       " 0                                          235,638   \n",
       " 1                                          226,159   \n",
       " 2                                          229,279   \n",
       " 3                                          219,365   \n",
       " 4                                          215,463   \n",
       " \n",
       "   Free Credit Balances in Customers' Securities Margin Accounts  \n",
       " 0                                            211,623             \n",
       " 1                                            200,548             \n",
       " 2                                            205,564             \n",
       " 3                                            198,913             \n",
       " 4                                            195,762             ,\n",
       "             Close/Last Volume     Open     High      Low\n",
       " Date                                                    \n",
       " 2021-12-31     4766.18     --  4775.21  4786.83  4765.75\n",
       " 2021-12-30     4778.73     --  4794.23  4808.93  4775.33\n",
       " 2021-12-29     4793.06     --  4788.64  4804.06  4778.08\n",
       " 2021-12-28     4786.35     --  4795.49  4807.02  4780.04\n",
       " 2021-12-27     4791.19     --  4733.99  4791.49  4733.99,\n",
       "             Close/Last  Volume  Open  High  Low\n",
       " Date                                           \n",
       " 2022-01-05         0.8     NaN   0.8   0.8  0.8\n",
       " 2022-01-04         0.8     NaN   0.8   0.8  0.8\n",
       " 2022-01-03         0.8     NaN   0.8   0.8  0.8\n",
       " 2021-12-31         0.8     NaN   0.8   0.8  0.8\n",
       " 2021-12-30         0.8     NaN   0.8   0.8  0.8)"
      ]
     },
     "execution_count": 32,
     "metadata": {},
     "output_type": "execute_result"
    }
   ],
   "source": [
    "import pandas as pd \n",
    "import os\n",
    "import numpy as np\n",
    "\n",
    "os.chdir(r'C:\\Users\\nicho\\OneDrive\\Desktop\\Bitcoin Regresssion Project')\n",
    "BTC = pd.read_csv(r'BTC-USD.csv' , parse_dates = ['Date'], index_col=['Date'])\n",
    "SNP = pd.read_csv(r'Standard&PoorsHistorical.csv', parse_dates = ['Date'], index_col=['Date'])\n",
    "Margin = pd.read_csv(r'margin-statistics.csv')\n",
    "CPI = pd.read_csv(r'CPIHistoricalData.csv', parse_dates = ['Date'], index_col= ['Date'])\n",
    "BTC.head(), Margin.head(), SNP.head(), CPI.head()"
   ]
  },
  {
   "cell_type": "code",
   "execution_count": 33,
   "metadata": {},
   "outputs": [],
   "source": [
    "#Dropping irrelevant features\n",
    "\n",
    "Drop = ['Symbol', 'Open', 'High', 'Low', 'Volume BTC']\n",
    "BTCDrop = BTC.drop(Drop, axis = 1)\n",
    "\n",
    "Drop1 = ['Volume', 'Open', 'High', 'Low']\n",
    "SNPDrop = SNP.drop(Drop1, axis = 1)\n",
    "\n",
    "\n",
    "Drop3 = ['Open', 'High', 'Low', 'Volume']\n",
    "CPIDrop = CPI.drop(Drop3, axis = 1)"
   ]
  },
  {
   "cell_type": "code",
   "execution_count": 34,
   "metadata": {},
   "outputs": [],
   "source": [
    "#Renaming Columns\n",
    "BTCDrop.rename(columns = {'Close': 'BTC', \n",
    "                          'Volume USD': 'Liquidity'}, inplace = True)\n",
    "\n",
    "SNPDrop.rename(columns = {'Close/Last': 'SNP close'}, inplace = True)\n",
    "\n",
    "CPIDrop.rename(columns = {'Close/Last': 'CPI close'}, inplace = True)"
   ]
  },
  {
   "cell_type": "code",
   "execution_count": 35,
   "metadata": {},
   "outputs": [],
   "source": [
    "#Converting feature samples to monthly \n",
    "BTCMonthly = BTCDrop.resample('M').median()\n",
    "CPIMonthly = CPIDrop.resample('M').median()\n",
    "SNPMonthly = SNPDrop.resample('M').median()\n",
    "\n",
    "#Setting index back to default\n",
    "BTCMonthly.reset_index(inplace = True)\n",
    "SNPMonthly.reset_index(inplace = True)\n",
    "CPIMonthly.reset_index(inplace = True)\n",
    "\n",
    "#Changing layout to use as key for merge\n",
    "BTCMonthly['Date'] = BTCMonthly['Date'].dt.strftime('%Y-%m')\n",
    "SNPMonthly['Date'] = SNPMonthly['Date'].dt.strftime('%Y-%m')\n",
    "CPIMonthly['Date'] = CPIMonthly['Date'].dt.strftime('%Y-%m')\n",
    "\n"
   ]
  },
  {
   "cell_type": "markdown",
   "metadata": {},
   "source": [
    "# Creating 2 Dataframes for testing to understand if larger data makes a difference in the predictability power"
   ]
  },
  {
   "cell_type": "code",
   "execution_count": 49,
   "metadata": {},
   "outputs": [],
   "source": [
    "#Dataframe with Margin feature\n",
    "MarginMerged = pd.concat([Margin, BTCMonthly, SNPMonthly, CPIMonthly], axis=1, join='inner')\n",
    "\n",
    "MarginMerged.drop(['Free Credit Balances in Customers\\' Cash Accounts', 'Date', \n",
    "             'Free Credit Balances in Customers\\' Securities Margin Accounts'], axis = 1, inplace = True)"
   ]
  },
  {
   "cell_type": "code",
   "execution_count": 108,
   "metadata": {},
   "outputs": [],
   "source": [
    "#Cleaning comma from feature\n",
    "NewDebit = MarginMerged['Debit Balances in Customers\\' Securities Margin Accounts']\n",
    "NewDebit = [col.replace(',', '') for col in NewDebit]\n",
    "MarginMerged['Debit Balances in Customers\\' Securities Margin Accounts'] = NewDebit"
   ]
  },
  {
   "cell_type": "code",
   "execution_count": 106,
   "metadata": {},
   "outputs": [],
   "source": [
    "#Dataframe without Margin feature\n",
    "Merged = pd.concat([BTCDrop, SNPDrop, CPIDrop], axis=1, join='inner')"
   ]
  },
  {
   "cell_type": "code",
   "execution_count": 100,
   "metadata": {},
   "outputs": [
    {
     "name": "stdout",
     "output_type": "stream",
     "text": [
      "<class 'pandas.core.frame.DataFrame'>\n",
      "RangeIndex: 55 entries, 0 to 54\n",
      "Data columns (total 6 columns):\n",
      " #   Column                                                   Non-Null Count  Dtype  \n",
      "---  ------                                                   --------------  -----  \n",
      " 0   Year-Month                                               55 non-null     object \n",
      " 1   Debit Balances in Customers' Securities Margin Accounts  55 non-null     object \n",
      " 2   BTC                                                      55 non-null     float64\n",
      " 3   Liquidity                                                55 non-null     float64\n",
      " 4   SNP close                                                55 non-null     float64\n",
      " 5   CPI close                                                55 non-null     float64\n",
      "dtypes: float64(4), object(2)\n",
      "memory usage: 2.7+ KB\n"
     ]
    }
   ],
   "source": [
    "#Visualization\n"
   ]
  }
 ],
 "metadata": {
  "kernelspec": {
   "display_name": "Python 3",
   "language": "python",
   "name": "python3"
  },
  "language_info": {
   "codemirror_mode": {
    "name": "ipython",
    "version": 3
   },
   "file_extension": ".py",
   "mimetype": "text/x-python",
   "name": "python",
   "nbconvert_exporter": "python",
   "pygments_lexer": "ipython3",
   "version": "3.7.6"
  }
 },
 "nbformat": 4,
 "nbformat_minor": 4
}

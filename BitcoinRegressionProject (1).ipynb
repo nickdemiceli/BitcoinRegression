{
 "cells": [
  {
   "cell_type": "code",
   "execution_count": 1,
   "metadata": {
    "scrolled": false
   },
   "outputs": [
    {
     "data": {
      "text/plain": [
       "(            Symbol     Open     High      Low    Close  Volume BTC  \\\n",
       " Date                                                                 \n",
       " 2020-04-10  BTCUSD  7315.25  7315.25  7315.25  7315.25        0.00   \n",
       " 2020-04-09  BTCUSD  7369.60  7378.85  7115.04  7315.25     2237.13   \n",
       " 2020-04-08  BTCUSD  7201.81  7432.23  7152.80  7369.60     2483.60   \n",
       " 2020-04-07  BTCUSD  7336.96  7468.42  7078.00  7201.81     2333.34   \n",
       " 2020-04-06  BTCUSD  6775.21  7369.76  6771.01  7336.96     3727.47   \n",
       " \n",
       "              Volume USD  \n",
       " Date                     \n",
       " 2020-04-10         0.00  \n",
       " 2020-04-09  16310014.53  \n",
       " 2020-04-08  18138080.27  \n",
       " 2020-04-07  17047120.32  \n",
       " 2020-04-06  26533750.17  ,\n",
       "   Year-Month Debit Balances in Customers' Securities Margin Accounts  \\\n",
       " 0    2021-11                                            918,598        \n",
       " 1    2021-10                                            935,862        \n",
       " 2    2021-09                                            903,117        \n",
       " 3    2021-08                                            911,545        \n",
       " 4    2021-07                                            844,324        \n",
       " \n",
       "   Free Credit Balances in Customers' Cash Accounts  \\\n",
       " 0                                          235,638   \n",
       " 1                                          226,159   \n",
       " 2                                          229,279   \n",
       " 3                                          219,365   \n",
       " 4                                          215,463   \n",
       " \n",
       "   Free Credit Balances in Customers' Securities Margin Accounts  \n",
       " 0                                            211,623             \n",
       " 1                                            200,548             \n",
       " 2                                            205,564             \n",
       " 3                                            198,913             \n",
       " 4                                            195,762             ,\n",
       "             Close/Last Volume     Open     High      Low\n",
       " Date                                                    \n",
       " 2021-12-31     4766.18     --  4775.21  4786.83  4765.75\n",
       " 2021-12-30     4778.73     --  4794.23  4808.93  4775.33\n",
       " 2021-12-29     4793.06     --  4788.64  4804.06  4778.08\n",
       " 2021-12-28     4786.35     --  4795.49  4807.02  4780.04\n",
       " 2021-12-27     4791.19     --  4733.99  4791.49  4733.99,\n",
       "             Close/Last  Volume  Open  High  Low\n",
       " Date                                           \n",
       " 2022-01-05         0.8     NaN   0.8   0.8  0.8\n",
       " 2022-01-04         0.8     NaN   0.8   0.8  0.8\n",
       " 2022-01-03         0.8     NaN   0.8   0.8  0.8\n",
       " 2021-12-31         0.8     NaN   0.8   0.8  0.8\n",
       " 2021-12-30         0.8     NaN   0.8   0.8  0.8)"
      ]
     },
     "execution_count": 1,
     "metadata": {},
     "output_type": "execute_result"
    }
   ],
   "source": [
    "import pandas as pd \n",
    "import os\n",
    "import numpy as np\n",
    "\n",
    "os.chdir(r'C:\\Users\\nicho\\OneDrive\\Desktop\\Bitcoin Regresssion Project')\n",
    "BTC = pd.read_csv(r'BTC-USD.csv' , parse_dates = ['Date'], index_col=['Date'])\n",
    "SNP = pd.read_csv(r'Standard&PoorsHistorical.csv', parse_dates = ['Date'], index_col=['Date'])\n",
    "Margin = pd.read_csv(r'margin-statistics.csv')\n",
    "CPI = pd.read_csv(r'CPIHistoricalData.csv', parse_dates = ['Date'], index_col= ['Date'])\n",
    "BTC.head(), Margin.head(), SNP.head(), CPI.head()"
   ]
  },
  {
   "cell_type": "code",
   "execution_count": 2,
   "metadata": {},
   "outputs": [],
   "source": [
    "#Dropping irrelevant features\n",
    "\n",
    "Drop = ['Symbol', 'Open', 'High', 'Low', 'Volume BTC']\n",
    "BTCDrop = BTC.drop(Drop, axis = 1)\n",
    "\n",
    "Drop1 = ['Volume', 'Open', 'High', 'Low']\n",
    "SNPDrop = SNP.drop(Drop1, axis = 1)\n",
    "\n",
    "\n",
    "Drop3 = ['Open', 'High', 'Low', 'Volume']\n",
    "CPIDrop = CPI.drop(Drop3, axis = 1)"
   ]
  },
  {
   "cell_type": "code",
   "execution_count": 3,
   "metadata": {},
   "outputs": [],
   "source": [
    "#Renaming Columns\n",
    "BTCDrop.rename(columns = {'Close': 'BTC', \n",
    "                          'Volume USD': 'Liquidity'}, inplace = True)\n",
    "\n",
    "SNPDrop.rename(columns = {'Close/Last': 'SNP close'}, inplace = True)\n",
    "\n",
    "CPIDrop.rename(columns = {'Close/Last': 'CPI close'}, inplace = True)"
   ]
  },
  {
   "cell_type": "code",
   "execution_count": 4,
   "metadata": {},
   "outputs": [],
   "source": [
    "#Converting feature samples to monthly \n",
    "BTCMonthly = BTCDrop.resample('M').median()\n",
    "CPIMonthly = CPIDrop.resample('M').median()\n",
    "SNPMonthly = SNPDrop.resample('M').median()\n",
    "\n",
    "#Setting index back to default\n",
    "BTCMonthly.reset_index(inplace = True)\n",
    "SNPMonthly.reset_index(inplace = True)\n",
    "CPIMonthly.reset_index(inplace = True)\n",
    "\n",
    "#Changing layout to use as key for merge\n",
    "BTCMonthly['Date'] = BTCMonthly['Date'].dt.strftime('%Y-%m')\n",
    "SNPMonthly['Date'] = SNPMonthly['Date'].dt.strftime('%Y-%m')\n",
    "CPIMonthly['Date'] = CPIMonthly['Date'].dt.strftime('%Y-%m')\n",
    "\n"
   ]
  },
  {
   "cell_type": "markdown",
   "metadata": {},
   "source": [
    "# Creating 2 Dataframes for testing to understand if larger data makes a difference in the predictability power"
   ]
  },
  {
   "cell_type": "code",
   "execution_count": 5,
   "metadata": {},
   "outputs": [],
   "source": [
    "#Dataframe with Margin feature\n",
    "MarginMerged = pd.concat([Margin, BTCMonthly, SNPMonthly, CPIMonthly], axis=1, join='inner')\n",
    "\n",
    "MarginMerged.drop(['Free Credit Balances in Customers\\' Cash Accounts', 'Date', \n",
    "             'Free Credit Balances in Customers\\' Securities Margin Accounts'], axis = 1, inplace = True)"
   ]
  },
  {
   "cell_type": "code",
   "execution_count": 6,
   "metadata": {},
   "outputs": [],
   "source": [
    "#Cleaning comma from feature\n",
    "NewDebit = MarginMerged['Debit Balances in Customers\\' Securities Margin Accounts']\n",
    "NewDebit = [col.replace(',', '') for col in NewDebit]\n",
    "MarginMerged['Debit Balances in Customers\\' Securities Margin Accounts'] = NewDebit"
   ]
  },
  {
   "cell_type": "code",
   "execution_count": 7,
   "metadata": {},
   "outputs": [
    {
     "data": {
      "text/html": [
       "<div>\n",
       "<style scoped>\n",
       "    .dataframe tbody tr th:only-of-type {\n",
       "        vertical-align: middle;\n",
       "    }\n",
       "\n",
       "    .dataframe tbody tr th {\n",
       "        vertical-align: top;\n",
       "    }\n",
       "\n",
       "    .dataframe thead th {\n",
       "        text-align: right;\n",
       "    }\n",
       "</style>\n",
       "<table border=\"1\" class=\"dataframe\">\n",
       "  <thead>\n",
       "    <tr style=\"text-align: right;\">\n",
       "      <th></th>\n",
       "      <th>Date</th>\n",
       "      <th>BTC</th>\n",
       "      <th>Liquidity</th>\n",
       "      <th>SNP close</th>\n",
       "      <th>CPI close</th>\n",
       "    </tr>\n",
       "  </thead>\n",
       "  <tbody>\n",
       "    <tr>\n",
       "      <th>0</th>\n",
       "      <td>2020-04-09</td>\n",
       "      <td>7315.25</td>\n",
       "      <td>16310014.53</td>\n",
       "      <td>2789.82</td>\n",
       "      <td>0.1</td>\n",
       "    </tr>\n",
       "    <tr>\n",
       "      <th>1</th>\n",
       "      <td>2020-04-08</td>\n",
       "      <td>7369.60</td>\n",
       "      <td>18138080.27</td>\n",
       "      <td>2749.98</td>\n",
       "      <td>0.1</td>\n",
       "    </tr>\n",
       "    <tr>\n",
       "      <th>2</th>\n",
       "      <td>2020-04-07</td>\n",
       "      <td>7201.81</td>\n",
       "      <td>17047120.32</td>\n",
       "      <td>2659.41</td>\n",
       "      <td>0.1</td>\n",
       "    </tr>\n",
       "    <tr>\n",
       "      <th>3</th>\n",
       "      <td>2020-04-06</td>\n",
       "      <td>7336.96</td>\n",
       "      <td>26533750.17</td>\n",
       "      <td>2663.68</td>\n",
       "      <td>0.1</td>\n",
       "    </tr>\n",
       "    <tr>\n",
       "      <th>4</th>\n",
       "      <td>2020-04-03</td>\n",
       "      <td>6740.88</td>\n",
       "      <td>19692803.68</td>\n",
       "      <td>2488.65</td>\n",
       "      <td>0.1</td>\n",
       "    </tr>\n",
       "    <tr>\n",
       "      <th>...</th>\n",
       "      <td>...</td>\n",
       "      <td>...</td>\n",
       "      <td>...</td>\n",
       "      <td>...</td>\n",
       "      <td>...</td>\n",
       "    </tr>\n",
       "    <tr>\n",
       "      <th>1131</th>\n",
       "      <td>2015-10-14</td>\n",
       "      <td>253.00</td>\n",
       "      <td>30115.77</td>\n",
       "      <td>1994.24</td>\n",
       "      <td>-0.1</td>\n",
       "    </tr>\n",
       "    <tr>\n",
       "      <th>1132</th>\n",
       "      <td>2015-10-13</td>\n",
       "      <td>250.00</td>\n",
       "      <td>12875.40</td>\n",
       "      <td>2003.69</td>\n",
       "      <td>-0.1</td>\n",
       "    </tr>\n",
       "    <tr>\n",
       "      <th>1133</th>\n",
       "      <td>2015-10-12</td>\n",
       "      <td>247.60</td>\n",
       "      <td>9493.89</td>\n",
       "      <td>2017.46</td>\n",
       "      <td>-0.1</td>\n",
       "    </tr>\n",
       "    <tr>\n",
       "      <th>1134</th>\n",
       "      <td>2015-10-09</td>\n",
       "      <td>245.39</td>\n",
       "      <td>7651.63</td>\n",
       "      <td>2014.89</td>\n",
       "      <td>-0.1</td>\n",
       "    </tr>\n",
       "    <tr>\n",
       "      <th>1135</th>\n",
       "      <td>2015-10-08</td>\n",
       "      <td>243.95</td>\n",
       "      <td>4595.84</td>\n",
       "      <td>2013.43</td>\n",
       "      <td>-0.1</td>\n",
       "    </tr>\n",
       "  </tbody>\n",
       "</table>\n",
       "<p>1136 rows × 5 columns</p>\n",
       "</div>"
      ],
      "text/plain": [
       "           Date      BTC    Liquidity  SNP close  CPI close\n",
       "0    2020-04-09  7315.25  16310014.53    2789.82        0.1\n",
       "1    2020-04-08  7369.60  18138080.27    2749.98        0.1\n",
       "2    2020-04-07  7201.81  17047120.32    2659.41        0.1\n",
       "3    2020-04-06  7336.96  26533750.17    2663.68        0.1\n",
       "4    2020-04-03  6740.88  19692803.68    2488.65        0.1\n",
       "...         ...      ...          ...        ...        ...\n",
       "1131 2015-10-14   253.00     30115.77    1994.24       -0.1\n",
       "1132 2015-10-13   250.00     12875.40    2003.69       -0.1\n",
       "1133 2015-10-12   247.60      9493.89    2017.46       -0.1\n",
       "1134 2015-10-09   245.39      7651.63    2014.89       -0.1\n",
       "1135 2015-10-08   243.95      4595.84    2013.43       -0.1\n",
       "\n",
       "[1136 rows x 5 columns]"
      ]
     },
     "execution_count": 7,
     "metadata": {},
     "output_type": "execute_result"
    }
   ],
   "source": [
    "#Dataframe without Margin feature\n",
    "Merged = pd.concat([BTCDrop, SNPDrop, CPIDrop], axis=1, join='inner')\n",
    "Merged.reset_index()"
   ]
  },
  {
   "cell_type": "code",
   "execution_count": 29,
   "metadata": {},
   "outputs": [
    {
     "data": {
      "text/plain": [
       "<matplotlib.axes._subplots.AxesSubplot at 0x27197755d88>"
      ]
     },
     "execution_count": 29,
     "metadata": {},
     "output_type": "execute_result"
    },
    {
     "data": {
      "image/png": "[encoded data removed]",
      "text/plain": [
       "<Figure size 720x432 with 2 Axes>"
      ]
     },
     "metadata": {
      "needs_background": "light"
     },
     "output_type": "display_data"
    }
   ],
   "source": [
    "#Correlation\n",
    "import matplotlib.pyplot as plt\n",
    "import seaborn as sns\n",
    "%matplotlib inline\n",
    "\n",
    "correlations = Merged.corr() \n",
    "plt.figure(figsize=(10,6))\n",
    "sns.heatmap(correlations, cmap = 'Greens', annot = True)"
   ]
  },
  {
   "cell_type": "code",
   "execution_count": null,
   "metadata": {},
   "outputs": [],
   "source": []
  }
 ],
 "metadata": {
  "kernelspec": {
   "display_name": "Python 3",
   "language": "python",
   "name": "python3"
  }
 },
 "nbformat": 4,
 "nbformat_minor": 4
}
